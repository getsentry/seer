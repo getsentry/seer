{
 "cells": [
  {
   "cell_type": "code",
   "execution_count": null,
   "id": "3eb1babf-0f7a-4921-9b3c-ed5868900495",
   "metadata": {},
   "outputs": [],
   "source": [
    "import os\n",
    "from github import Github\n",
    "from github.Auth import Token\n",
    "from tqdm.notebook import tqdm, trange\n",
    "import requests\n",
    "import datetime\n",
    "import pandas as pd\n",
    "\n",
    "from dotenv import load_dotenv\n",
    "load_dotenv('../.env')\n",
    "\n",
    "github = Github(auth=Token(token=os.environ.get('GITHUB_TOKEN')))"
   ]
  },
  {
   "cell_type": "code",
   "execution_count": null,
   "id": "bf8a9e64-f871-4a99-84db-9fa3810e2e57",
   "metadata": {},
   "outputs": [],
   "source": [
    "!pip install google-cloud-bigquery db-dtypes"
   ]
  },
  {
   "cell_type": "code",
   "execution_count": null,
   "id": "b4b6d0d1-10e1-4b6e-8f21-4e55a0f7170d",
   "metadata": {},
   "outputs": [],
   "source": [
    "!gcloud auth login"
   ]
  },
  {
   "cell_type": "code",
   "execution_count": null,
   "id": "ece7c920-8503-4178-9cdc-faeb76c73862",
   "metadata": {},
   "outputs": [],
   "source": [
    "!gcloud auth application-default login"
   ]
  },
  {
   "cell_type": "code",
   "execution_count": null,
   "id": "3f02e61d-2825-4063-8751-61f02cc2f9c7",
   "metadata": {},
   "outputs": [],
   "source": [
    "from google.cloud import bigquery\n",
    "bigquery_client = bigquery.Client()"
   ]
  },
  {
   "cell_type": "markdown",
   "id": "0433e451-b52e-4ca4-a1ea-eac85a0c3105",
   "metadata": {},
   "source": [
    "## Build Open Source Repo Names"
   ]
  },
  {
   "cell_type": "code",
   "execution_count": null,
   "id": "8333a8ac-4df4-449f-855c-7243eedb0481",
   "metadata": {},
   "outputs": [],
   "source": [
    "def get_unique_os_repos(start_date, num_days):\n",
    "    dfs = []\n",
    "    with trange(num_days) as pbar:\n",
    "        for i in pbar:\n",
    "            cur_date = datetime.datetime.strftime(\n",
    "                datetime.datetime.strptime(start_date, '%Y%m%d') + datetime.timedelta(days=-i), \n",
    "                '%Y%m%d')\n",
    "            pbar.set_description(f'Loading for {cur_date}')\n",
    "            db_name = f'githubarchive.day.{cur_date}'\n",
    "            repos = get_unique_os_repos_from(db_name)\n",
    "            print(f'Got {len(repos)} repos from {db_name}')\n",
    "            dfs.append(repos)\n",
    "    return pd.concat(dfs)\n",
    "\n",
    "def get_unique_os_repos_from(db_name):\n",
    "    query = f\"SELECT distinct repo.name FROM `{db_name}`\"\n",
    "    results = bigquery_client.query(query)\n",
    "    return results.to_dataframe()\n",
    "    "
   ]
  },
  {
   "cell_type": "code",
   "execution_count": null,
   "id": "6d7f1902-f979-4685-91fe-d49de5d0bf66",
   "metadata": {},
   "outputs": [],
   "source": [
    "df_oss_repos_30 = get_unique_os_repos('20240416', 30)"
   ]
  },
  {
   "cell_type": "code",
   "execution_count": null,
   "id": "3dfa1823-0f92-4697-8623-b8ec7ab1e904",
   "metadata": {},
   "outputs": [],
   "source": [
    "df_oss_repos_60 = get_unique_os_repos('20240317', 60)"
   ]
  },
  {
   "cell_type": "code",
   "execution_count": null,
   "id": "fe30f035-6fa6-47c3-9905-e398c59fd768",
   "metadata": {},
   "outputs": [],
   "source": [
    "print(f'30 days: {len(df_oss_repos_30)}; 60 days: {len(df_oss_repos_60)}')"
   ]
  },
  {
   "cell_type": "code",
   "execution_count": null,
   "id": "731fe1f7-0684-472a-94fa-b0095cc48e25",
   "metadata": {},
   "outputs": [],
   "source": [
    "df_repos = pd.concat([df_oss_repos_30, df_oss_repos_60])"
   ]
  },
  {
   "cell_type": "code",
   "execution_count": null,
   "id": "fde085cc-cd7f-4cda-8f25-7cbc2b9309b7",
   "metadata": {},
   "outputs": [],
   "source": [
    "len(df_repos)"
   ]
  },
  {
   "cell_type": "code",
   "execution_count": null,
   "id": "5577a347-c231-4c36-abd3-036995ad2355",
   "metadata": {},
   "outputs": [],
   "source": [
    "%%time\n",
    "pd.Series(df_repos.name.unique()).to_csv('oss_repos.csv')"
   ]
  }
 ],
 "metadata": {
  "kernelspec": {
   "display_name": "Python 3 (ipykernel)",
   "language": "python",
   "name": "python3"
  },
  "language_info": {
   "codemirror_mode": {
    "name": "ipython",
    "version": 3
   },
   "file_extension": ".py",
   "mimetype": "text/x-python",
   "name": "python",
   "nbconvert_exporter": "python",
   "pygments_lexer": "ipython3",
   "version": "3.11.8"
  }
 },
 "nbformat": 4,
 "nbformat_minor": 5
}
