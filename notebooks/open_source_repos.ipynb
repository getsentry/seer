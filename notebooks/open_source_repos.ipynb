{
 "cells": [
  {
   "cell_type": "code",
   "execution_count": null,
   "id": "3eb1babf-0f7a-4921-9b3c-ed5868900495",
   "metadata": {},
   "outputs": [],
   "source": [
    "import os\n",
    "from github import Github\n",
    "from github.Auth import Token\n",
    "from tqdm.notebook import tqdm, trange\n",
    "import requests\n",
    "import datetime\n",
    "import pandas as pd\n",
    "\n",
    "from dotenv import load_dotenv\n",
    "load_dotenv('../.env')\n",
    "\n",
    "github = Github(auth=Token(token=os.environ.get('GITHUB_TOKEN')))"
   ]
  },
  {
   "cell_type": "code",
   "execution_count": null,
   "id": "bf8a9e64-f871-4a99-84db-9fa3810e2e57",
   "metadata": {},
   "outputs": [],
   "source": [
    "!pip install google-cloud-bigquery db-dtypes"
   ]
  },
  {
   "cell_type": "code",
   "execution_count": null,
   "id": "b4b6d0d1-10e1-4b6e-8f21-4e55a0f7170d",
   "metadata": {},
   "outputs": [],
   "source": [
    "!gcloud auth login"
   ]
  },
  {
   "cell_type": "code",
   "execution_count": null,
   "id": "ece7c920-8503-4178-9cdc-faeb76c73862",
   "metadata": {},
   "outputs": [],
   "source": [
    "!gcloud auth application-default login"
   ]
  },
  {
   "cell_type": "code",
   "execution_count": null,
   "id": "3f02e61d-2825-4063-8751-61f02cc2f9c7",
   "metadata": {},
   "outputs": [],
   "source": [
    "from google.cloud import bigquery\n",
    "bigquery_client = bigquery.Client()"
   ]
  },
  {
   "cell_type": "markdown",
   "id": "0433e451-b52e-4ca4-a1ea-eac85a0c3105",
   "metadata": {},
   "source": [
    "## Build Open Source Repo Names"
   ]
  },
  {
   "cell_type": "code",
   "execution_count": 22,
   "id": "8333a8ac-4df4-449f-855c-7243eedb0481",
   "metadata": {},
   "outputs": [],
   "source": [
    "def get_unique_os_repos(start_date, num_days):\n",
    "    dfs = []\n",
    "    with trange(num_days) as pbar:\n",
    "        for i in pbar:\n",
    "            cur_date = datetime.datetime.strftime(\n",
    "                datetime.datetime.strptime(start_date, '%Y%m%d') + datetime.timedelta(days=-i), \n",
    "                '%Y%m%d')\n",
    "            pbar.set_description(f'Loading for {cur_date}')\n",
    "            db_name = f'githubarchive.day.{cur_date}'\n",
    "            repos = get_unique_os_repos_from(db_name)\n",
    "            print(f'Got {len(repos)} repos from {db_name}')\n",
    "            dfs.append(repos)\n",
    "    return pd.concat(dfs)\n",
    "\n",
    "def get_unique_os_repos_from(db_name):\n",
    "    query = f\"SELECT distinct repo.name FROM `{db_name}`\"\n",
    "    results = bigquery_client.query(query)\n",
    "    return results.to_dataframe()\n",
    "    "
   ]
  },
  {
   "cell_type": "code",
   "execution_count": 28,
   "id": "6d7f1902-f979-4685-91fe-d49de5d0bf66",
   "metadata": {},
   "outputs": [
    {
     "data": {
      "application/vnd.jupyter.widget-view+json": {
       "model_id": "c45d746551b24bedbf4ef8e85f015c5e",
       "version_major": 2,
       "version_minor": 0
      },
      "text/plain": [
       "  0%|          | 0/30 [00:00<?, ?it/s]"
      ]
     },
     "metadata": {},
     "output_type": "display_data"
    },
    {
     "name": "stdout",
     "output_type": "stream",
     "text": [
      "Got 949954 repos from githubarchive.day.20240416\n",
      "Got 954671 repos from githubarchive.day.20240415\n",
      "Got 688458 repos from githubarchive.day.20240414\n",
      "Got 666693 repos from githubarchive.day.20240413\n",
      "Got 863177 repos from githubarchive.day.20240412\n",
      "Got 899095 repos from githubarchive.day.20240411\n",
      "Got 888282 repos from githubarchive.day.20240410\n",
      "Got 915528 repos from githubarchive.day.20240409\n",
      "Got 917833 repos from githubarchive.day.20240408\n",
      "Got 716793 repos from githubarchive.day.20240407\n",
      "Got 675982 repos from githubarchive.day.20240406\n",
      "Got 853263 repos from githubarchive.day.20240405\n",
      "Got 917006 repos from githubarchive.day.20240404\n",
      "Got 939921 repos from githubarchive.day.20240403\n",
      "Got 940064 repos from githubarchive.day.20240402\n",
      "Got 897242 repos from githubarchive.day.20240401\n",
      "Got 663143 repos from githubarchive.day.20240331\n",
      "Got 667819 repos from githubarchive.day.20240330\n",
      "Got 814805 repos from githubarchive.day.20240329\n",
      "Got 907999 repos from githubarchive.day.20240328\n",
      "Got 933472 repos from githubarchive.day.20240327\n",
      "Got 954361 repos from githubarchive.day.20240326\n",
      "Got 931232 repos from githubarchive.day.20240325\n",
      "Got 706134 repos from githubarchive.day.20240324\n",
      "Got 699139 repos from githubarchive.day.20240323\n",
      "Got 892020 repos from githubarchive.day.20240322\n",
      "Got 938363 repos from githubarchive.day.20240321\n",
      "Got 961587 repos from githubarchive.day.20240320\n",
      "Got 978430 repos from githubarchive.day.20240319\n",
      "Got 966008 repos from githubarchive.day.20240318\n"
     ]
    }
   ],
   "source": [
    "df_oss_repos_30 = get_unique_os_repos('20240416', 30)"
   ]
  },
  {
   "cell_type": "code",
   "execution_count": 33,
   "id": "3dfa1823-0f92-4697-8623-b8ec7ab1e904",
   "metadata": {},
   "outputs": [
    {
     "data": {
      "application/vnd.jupyter.widget-view+json": {
       "model_id": "7864d0f0b3284872baedfe1935e928e3",
       "version_major": 2,
       "version_minor": 0
      },
      "text/plain": [
       "  0%|          | 0/60 [00:00<?, ?it/s]"
      ]
     },
     "metadata": {},
     "output_type": "display_data"
    },
    {
     "name": "stdout",
     "output_type": "stream",
     "text": [
      "Got 718689 repos from githubarchive.day.20240317\n",
      "Got 718277 repos from githubarchive.day.20240316\n",
      "Got 902128 repos from githubarchive.day.20240315\n",
      "Got 926071 repos from githubarchive.day.20240314\n",
      "Got 946707 repos from githubarchive.day.20240313\n",
      "Got 975366 repos from githubarchive.day.20240312\n",
      "Got 940936 repos from githubarchive.day.20240311\n",
      "Got 704679 repos from githubarchive.day.20240310\n",
      "Got 687659 repos from githubarchive.day.20240309\n",
      "Got 856612 repos from githubarchive.day.20240308\n",
      "Got 921919 repos from githubarchive.day.20240307\n",
      "Got 948022 repos from githubarchive.day.20240306\n",
      "Got 949512 repos from githubarchive.day.20240305\n",
      "Got 952063 repos from githubarchive.day.20240304\n",
      "Got 708460 repos from githubarchive.day.20240303\n",
      "Got 707478 repos from githubarchive.day.20240302\n",
      "Got 886594 repos from githubarchive.day.20240301\n",
      "Got 942048 repos from githubarchive.day.20240229\n",
      "Got 943516 repos from githubarchive.day.20240228\n",
      "Got 957320 repos from githubarchive.day.20240227\n",
      "Got 920551 repos from githubarchive.day.20240226\n",
      "Got 708310 repos from githubarchive.day.20240225\n",
      "Got 668933 repos from githubarchive.day.20240224\n",
      "Got 845646 repos from githubarchive.day.20240223\n",
      "Got 908447 repos from githubarchive.day.20240222\n",
      "Got 930029 repos from githubarchive.day.20240221\n",
      "Got 919237 repos from githubarchive.day.20240220\n",
      "Got 904970 repos from githubarchive.day.20240219\n",
      "Got 690535 repos from githubarchive.day.20240218\n",
      "Got 671967 repos from githubarchive.day.20240217\n",
      "Got 814705 repos from githubarchive.day.20240216\n",
      "Got 858266 repos from githubarchive.day.20240215\n",
      "Got 837961 repos from githubarchive.day.20240214\n",
      "Got 859768 repos from githubarchive.day.20240213\n",
      "Got 835353 repos from githubarchive.day.20240212\n",
      "Got 641480 repos from githubarchive.day.20240211\n",
      "Got 625006 repos from githubarchive.day.20240210\n",
      "Got 782998 repos from githubarchive.day.20240209\n",
      "Got 839252 repos from githubarchive.day.20240208\n",
      "Got 891488 repos from githubarchive.day.20240207\n",
      "Got 910319 repos from githubarchive.day.20240206\n",
      "Got 890396 repos from githubarchive.day.20240205\n",
      "Got 694339 repos from githubarchive.day.20240204\n",
      "Got 670635 repos from githubarchive.day.20240203\n",
      "Got 849826 repos from githubarchive.day.20240202\n",
      "Got 907086 repos from githubarchive.day.20240201\n",
      "Got 908573 repos from githubarchive.day.20240131\n",
      "Got 905852 repos from githubarchive.day.20240130\n",
      "Got 899236 repos from githubarchive.day.20240129\n",
      "Got 673178 repos from githubarchive.day.20240128\n",
      "Got 659375 repos from githubarchive.day.20240127\n",
      "Got 833809 repos from githubarchive.day.20240126\n",
      "Got 872662 repos from githubarchive.day.20240125\n",
      "Got 880724 repos from githubarchive.day.20240124\n",
      "Got 895399 repos from githubarchive.day.20240123\n",
      "Got 883669 repos from githubarchive.day.20240122\n",
      "Got 664443 repos from githubarchive.day.20240121\n",
      "Got 661094 repos from githubarchive.day.20240120\n",
      "Got 831567 repos from githubarchive.day.20240119\n",
      "Got 870884 repos from githubarchive.day.20240118\n"
     ]
    }
   ],
   "source": [
    "df_oss_repos_60 = get_unique_os_repos('20240317', 60)"
   ]
  },
  {
   "cell_type": "code",
   "execution_count": 34,
   "id": "fe30f035-6fa6-47c3-9905-e398c59fd768",
   "metadata": {},
   "outputs": [
    {
     "name": "stdout",
     "output_type": "stream",
     "text": [
      "30 days: 25698474; 60 days: 49812024\n"
     ]
    }
   ],
   "source": [
    "print(f'30 days: {len(df_oss_repos_30)}; 60 days: {len(df_oss_repos_60)}')"
   ]
  },
  {
   "cell_type": "code",
   "execution_count": 35,
   "id": "731fe1f7-0684-472a-94fa-b0095cc48e25",
   "metadata": {},
   "outputs": [],
   "source": [
    "df_repos = pd.concat([df_oss_repos_30, df_oss_repos_60])"
   ]
  },
  {
   "cell_type": "code",
   "execution_count": 36,
   "id": "fde085cc-cd7f-4cda-8f25-7cbc2b9309b7",
   "metadata": {},
   "outputs": [
    {
     "data": {
      "text/plain": [
       "75510498"
      ]
     },
     "execution_count": 36,
     "metadata": {},
     "output_type": "execute_result"
    }
   ],
   "source": [
    "len(df_repos)"
   ]
  },
  {
   "cell_type": "code",
   "execution_count": 38,
   "id": "5577a347-c231-4c36-abd3-036995ad2355",
   "metadata": {},
   "outputs": [
    {
     "name": "stdout",
     "output_type": "stream",
     "text": [
      "CPU times: user 35.5 s, sys: 2.21 s, total: 37.7 s\n",
      "Wall time: 38.3 s\n"
     ]
    }
   ],
   "source": [
    "%%time\n",
    "pd.Series(df_repos.name.unique()).to_csv('oss_repos.csv')"
   ]
  }
 ],
 "metadata": {
  "kernelspec": {
   "display_name": "Python 3 (ipykernel)",
   "language": "python",
   "name": "python3"
  },
  "language_info": {
   "codemirror_mode": {
    "name": "ipython",
    "version": 3
   },
   "file_extension": ".py",
   "mimetype": "text/x-python",
   "name": "python",
   "nbconvert_exporter": "python",
   "pygments_lexer": "ipython3",
   "version": "3.11.8"
  }
 },
 "nbformat": 4,
 "nbformat_minor": 5
}
