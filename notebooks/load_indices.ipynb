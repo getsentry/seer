{
 "cells": [
  {
   "cell_type": "markdown",
   "metadata": {},
   "source": [
    "# Load Codebase Indices for Evaluation Run\n",
    "\n",
    "First, you will need the chroma codebase indices for the evaluation run. You can download the indices from GCS via:\n",
    "\n",
    "```sh\n",
    "mkdir -p ./data/chroma && gsutil cp -r gs://sentry-ml/tmp_jenn/chroma/chroma ./data\n",
    "```\n",
    "\n",
    "Second, get the postgres dumps:\n",
    "```sh\n",
    "gsutil cp -r gs://sentry-ml/tmp_jenn/chroma/namespaces.json ./data/chroma\n",
    "gsutil cp -r gs://sentry-ml/tmp_jenn/chroma/repo_infos.json ./data/chroma\n",
    "```\n",
    "\n",
    "Then, you can load the repositories and namespace rows into postgres with the following cell:"
   ]
  },
  {
   "cell_type": "code",
   "execution_count": null,
   "metadata": {},
   "outputs": [],
   "source": [
    "import json\n",
    "from seer.automation.codebase.models import RepositoryInfo, CodebaseNamespace\n",
    "from seer.db import Session\n",
    "\n",
    "def load_json_into_db(repo_info_file='../data/repo_infos.json', namespace_file='../data/namespaces.json'):\n",
    "    with open(repo_info_file, 'r') as f:\n",
    "        repo_infos_json = json.load(f)\n",
    "    \n",
    "    with open(namespace_file, 'r') as f:\n",
    "        namespaces_json = json.load(f)\n",
    "    \n",
    "    with Session() as session:\n",
    "        for repo_info in repo_infos_json:\n",
    "            db_repo_info = RepositoryInfo.model_validate_json(repo_info).to_db_model()\n",
    "            session.merge(db_repo_info)\n",
    "\n",
    "        session.flush()\n",
    "        \n",
    "        for namespace in namespaces_json:\n",
    "            db_namespace = CodebaseNamespace.model_validate_json(namespace).to_db_model()\n",
    "            session.merge(db_namespace)\n",
    "        \n",
    "        session.commit()\n",
    "\n",
    "load_json_into_db()\n"
   ]
  }
 ],
 "metadata": {
  "language_info": {
   "name": "python"
  }
 },
 "nbformat": 4,
 "nbformat_minor": 2
}
