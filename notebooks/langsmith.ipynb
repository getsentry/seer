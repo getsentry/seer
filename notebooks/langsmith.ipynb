{
 "cells": [
  {
   "cell_type": "code",
   "execution_count": 15,
   "metadata": {},
   "outputs": [
    {
     "name": "stdout",
     "output_type": "stream",
     "text": [
      "Users who ran Autofix in the last 14 days: {'tillman.elser@sentry.io': 8, 'Jenn Mueng': 15, 'gabriel.lopes@sentry.io': 1, 'evan.hicks@sentry.io': 1, 'michael.sun@sentry.io': 1, 'cathy.teng@sentry.io': 2, 'James Q Quick': 5, 'Armin Ronacher': 2, 'Josh Ferge': 1, 'David Cramer': 4}\n"
     ]
    }
   ],
   "source": [
    "import datetime\n",
    "from langsmith import Client\n",
    "\n",
    "\n",
    "langsmith_client = Client()\n",
    "days = 14\n",
    "start_time = datetime.datetime.now() - datetime.timedelta(days=days)\n",
    "runs = langsmith_client.list_runs(project_name=\"ai-autofix\", start_time=start_time, filter='eq(name, \"Autofix Run\")')\n",
    "\n",
    "users_who_ran_autofix = {}\n",
    "\n",
    "for run in runs:\n",
    "    name = run.inputs.get('request', {}).get('invoking_user', {}).get('display_name', 'Unknown User')\n",
    "    users_who_ran_autofix[name] = users_who_ran_autofix.get(name, 0) + 1\n",
    "\n",
    "print(f\"Users who ran Autofix in the last {days} days:\", users_who_ran_autofix)"
   ]
  }
 ],
 "metadata": {
  "kernelspec": {
   "display_name": ".venv",
   "language": "python",
   "name": "python3"
  },
  "language_info": {
   "codemirror_mode": {
    "name": "ipython",
    "version": 3
   },
   "file_extension": ".py",
   "mimetype": "text/x-python",
   "name": "python",
   "nbconvert_exporter": "python",
   "pygments_lexer": "ipython3",
   "version": "3.11.7"
  }
 },
 "nbformat": 4,
 "nbformat_minor": 2
}
